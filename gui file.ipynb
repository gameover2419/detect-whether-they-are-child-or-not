{
 "cells": [
  {
   "cell_type": "code",
   "execution_count": 10,
   "id": "860e76a7",
   "metadata": {},
   "outputs": [],
   "source": [
    "import cv2\n",
    "import tkinter as tk\n",
    "from tkinter import filedialog\n",
    "from matplotlib import pyplot as plt\n",
    "from PIL import Image, ImageTk\n",
    "\n",
    "def detect_child(image_path):\n",
    "    face_cascade = cv2.CascadeClassifier(cv2.data.haarcascades + 'haarcascade_frontalface_default.xml')\n",
    "    image = cv2.imread(image_path)\n",
    "    gray_image = cv2.cvtColor(image, cv2.COLOR_BGR2GRAY)\n",
    "    faces = face_cascade.detectMultiScale(gray_image, scaleFactor=1.1, minNeighbors=5, minSize=(30, 30))\n",
    "\n",
    "    for (x, y, w, h) in faces:\n",
    "        if w < 100 and h < 100:\n",
    "            result_label.config(text=\"Child detected!\")\n",
    "        else:\n",
    "            result_label.config(text=\"Not a child\")\n",
    "            # You can take further actions here, e.g., notify authorities or trigger an alert\n",
    "\n",
    "    for (x, y, w, h) in faces:\n",
    "        cv2.rectangle(image, (x, y), (x+w, y+h), (255, 0, 0), 2)\n",
    "\n",
    "    image = cv2.cvtColor(image, cv2.COLOR_BGR2RGB)\n",
    "    image = Image.fromarray(image)\n",
    "    image = ImageTk.PhotoImage(image)\n",
    "\n",
    "    panel = tk.Label(window, image=image)\n",
    "    panel.image = image\n",
    "    panel.grid(row=2, column=0, columnspan=2)\n",
    "\n",
    "def browse_image():\n",
    "    file_path = filedialog.askopenfilename()\n",
    "    if file_path:\n",
    "        entry_path.delete(0, tk.END)\n",
    "        entry_path.insert(0, file_path)\n",
    "        detect_child(file_path)\n",
    "\n",
    "window = tk.Tk()\n",
    "window.title(\"Child Detection App\")\n",
    "\n",
    "label_path = tk.Label(window, text=\"Image Path:\")\n",
    "label_path.grid(row=0, column=0, padx=5, pady=5, sticky=tk.E)\n",
    "\n",
    "entry_path = tk.Entry(window, width=50)\n",
    "entry_path.grid(row=0, column=1, padx=5, pady=5)\n",
    "\n",
    "button_browse = tk.Button(window, text=\"Browse\", command=browse_image)\n",
    "button_browse.grid(row=1, column=0, columnspan=2, pady=5)\n",
    "\n",
    "result_label = tk.Label(window, text=\"\")\n",
    "result_label.grid(row=3, column=0, columnspan=2, pady=5)\n",
    "\n",
    "window.mainloop()\n"
   ]
  },
  {
   "cell_type": "code",
   "execution_count": null,
   "id": "a1ecbd1e",
   "metadata": {},
   "outputs": [],
   "source": []
  }
 ],
 "metadata": {
  "kernelspec": {
   "display_name": "Python 3 (ipykernel)",
   "language": "python",
   "name": "python3"
  },
  "language_info": {
   "codemirror_mode": {
    "name": "ipython",
    "version": 3
   },
   "file_extension": ".py",
   "mimetype": "text/x-python",
   "name": "python",
   "nbconvert_exporter": "python",
   "pygments_lexer": "ipython3",
   "version": "3.11.5"
  }
 },
 "nbformat": 4,
 "nbformat_minor": 5
}
